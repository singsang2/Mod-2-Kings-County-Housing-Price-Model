{
 "cells": [
  {
   "cell_type": "markdown",
   "metadata": {},
   "source": [
    "# Module 2 Final Project \n",
    "<br>Author: Sung Hoon Bae\n",
    "<br>Instructor: James Irving\n",
    "<hr>"
   ]
  },
  {
   "cell_type": "markdown",
   "metadata": {},
   "source": [
    "# Introduction\n",
    "\n",
    "Multivariable linear regression models can be used to predict the outcomes of an event that depends on multiple factors. There are mainly two types of goals we could focus on when making a model and they are:\n",
    "    1) predictable model\n",
    "    2) interpretable model.\n",
    "<img src='different_models.png'>\n",
    "source: https://towardsdatascience.com/the-balance-accuracy-vs-interpretability-1b3861408062\n",
    "\n",
    "    - Predictable model\n",
    "        These models have high accurcay which would be great in predicting values from predictors.\n",
    "        \n",
    "    - Interpretable model\n",
    "        These models have high interpretability which would be great in understanding the models and how different predictors play in determining the target value.\n",
    "\n",
    "Even though every model has certain aspect of predictability and interpretability, in this module project, we will focus on making a model with high interpretability."
   ]
  },
  {
   "cell_type": "markdown",
   "metadata": {},
   "source": [
    "## Objectives\n",
    "The objective is to use the given data along with other relevant outside data to make more 'interpretable' model to show insights to the house owners of what they could do to increase their house sale price."
   ]
  },
  {
   "cell_type": "markdown",
   "metadata": {},
   "source": [
    "## Finding from EDA\n",
    "Based on multiple EDA's, we have concluded the following factors might be affecting the house prices:"
   ]
  },
  {
   "cell_type": "markdown",
   "metadata": {},
   "source": [
    "### Seasonal Factor\n",
    "<img src=\">\n",
    "### Geographical Factor\n",
    "### Mortgage Rate Factor\n",
    "### Available Living Space Factor\n",
    "### Quality Bathrooms Factor"
   ]
  },
  {
   "cell_type": "markdown",
   "metadata": {},
   "source": [
    "# The Dataset\n",
    "The following data sets were used.\n",
    "1. Given King's County house sale data\n",
    "    - We were given with King's County house sale data between 2014-2015. \n",
    "    - This data will be used as our main data\n",
    "    \n",
    "2. Past mortgage rates by month\n",
    "    - Source: http://www.freddiemac.com/pmms/pmms30.html\n",
    "\n",
    "3. Top attractions near Seattle\n",
    "    - Source: https://www.timeout.com/seattle/\n",
    "---\n",
    "The following API was used to obtain additional data:\n",
    "1. Google Geocode API\n",
    "    - This API was used to obtain latitude and longitude data of various locations\n",
    "   "
   ]
  },
  {
   "cell_type": "markdown",
   "metadata": {
    "ExecuteTime": {
     "end_time": "2020-09-21T18:03:52.099854Z",
     "start_time": "2020-09-21T18:03:52.097530Z"
    }
   },
   "source": [
    "# Method"
   ]
  },
  {
   "cell_type": "markdown",
   "metadata": {},
   "source": [
    "\"MakeModel\" class was made to process and make models in repeatable ways. The following are major methods in the \"MakeModel\" class that was used to produce multiple models:\n",
    "<hr>"
   ]
  },
  {
   "cell_type": "markdown",
   "metadata": {},
   "source": [
    "|Method Name|Explanation|    |-----------|-----------|    |`MakeModel.col_classifier()`|idk|"
   ]
  },
  {
   "cell_type": "markdown",
   "metadata": {},
   "source": [
    "\n",
    "## Summary\n",
    "\n",
    "The end of module projects and project reviews are a critical part of the program. They give you a chance to both bring together all the skills you've learned into realistic projects and to practice key \"business judgement\" and communication skills that you otherwise might not get as much practice with."
   ]
  },
  {
   "cell_type": "code",
   "execution_count": null,
   "metadata": {},
   "outputs": [],
   "source": []
  }
 ],
 "metadata": {
  "kernelspec": {
   "display_name": "Python [conda env:learn-env] *",
   "language": "python",
   "name": "conda-env-learn-env-py"
  },
  "language_info": {
   "codemirror_mode": {
    "name": "ipython",
    "version": 3
   },
   "file_extension": ".py",
   "mimetype": "text/x-python",
   "name": "python",
   "nbconvert_exporter": "python",
   "pygments_lexer": "ipython3",
   "version": "3.6.9"
  },
  "toc": {
   "base_numbering": 1,
   "nav_menu": {},
   "number_sections": true,
   "sideBar": true,
   "skip_h1_title": false,
   "title_cell": "Table of Contents",
   "title_sidebar": "Contents",
   "toc_cell": false,
   "toc_position": {},
   "toc_section_display": true,
   "toc_window_display": false
  }
 },
 "nbformat": 4,
 "nbformat_minor": 2
}
