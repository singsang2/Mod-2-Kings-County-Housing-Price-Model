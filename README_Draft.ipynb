{
 "cells": [
  {
   "cell_type": "markdown",
   "metadata": {},
   "source": [
    "# Module 2 Final Project \n",
    "<br>Author: Sung Hoon Bae\n",
    "<br>Instructor: James Irving\n",
    "<br>Review Instructor: Matt Sparr\n",
    "<hr>"
   ]
  },
  {
   "cell_type": "markdown",
   "metadata": {},
   "source": [
    "# Introduction\n",
    "\n",
    "Multivariable linear regression models can be used to predict the outcomes of an event that depends on multiple factors. There are mainly two types of goals we could focus on when making a model and they are:\n",
    "    1) predictable model\n",
    "    2) interpretable model.\n",
    "<img src='different_models.png'>\n",
    "source: https://towardsdatascience.com/the-balance-accuracy-vs-interpretability-1b3861408062\n",
    "\n",
    "    - Predictable model\n",
    "        These models have high accurcay which would be great in predicting values from predictors.\n",
    "        \n",
    "    - Interpretable model\n",
    "        These models have high interpretability which would be great in understanding the models and how different predictors play in determining the target value.\n",
    "\n",
    "Even though every model has certain aspect of predictability and interpretability, in this module project, we will focus on making a model with high interpretability."
   ]
  },
  {
   "cell_type": "markdown",
   "metadata": {},
   "source": [
    "## Objectives\n",
    "The objective is to use the given data along with other relevant outside data to make more 'interpretable' model to show insights to the house owners of what they could do to increase their house sale price."
   ]
  },
  {
   "cell_type": "markdown",
   "metadata": {},
   "source": [
    "## Finding from EDA\n",
    "Based on multiple EDA's, we have concluded the following factors might be affecting the house prices:"
   ]
  },
  {
   "cell_type": "markdown",
   "metadata": {},
   "source": [
    "### Seasonal Factor\n",
    "<img src=\"img/seasons.png\"> <img src='img/month.png'>\n",
    "As we can see from the two graphs above, depending on time of the year, the total house sale price differ.\n",
    "> 'season' was added as categorical data in the model"
   ]
  },
  {
   "cell_type": "markdown",
   "metadata": {},
   "source": [
    "### Geographical Factor\n",
    "<img src='img/geography.png'>\n",
    "From the figure above, it becomes apparent that the house prices are affected by geographical locations. For example, the following graph shows house prices for depending on the distance from Microsoft HQ.\n",
    "<img src='img/MSHQ.png'>\n",
    "According the graph above, the mean distance and the price have negative association which makes sense since further away from valuable site (MS HQ), the land value also could drop as well.\n",
    "\n",
    "> The following were added as continuous predictors to our model:\n",
    "    - average distance from top attraction sites\n",
    "    - distance from Microsoft HQ\n",
    "    - distance from Seattle"
   ]
  },
  {
   "cell_type": "markdown",
   "metadata": {},
   "source": [
    "### Mortgage Rate Factor\n",
    "Mortgage rate is one of the major factor that could shift people from buying or hold off on buying a house. Buyers definitely would prefer having lower rate. So we included mortgage rate as one of our factors.\n",
    "> Rate was added to our model as continuous predictor."
   ]
  },
  {
   "cell_type": "markdown",
   "metadata": {},
   "source": [
    "### Available Living Space Factor\n",
    "The square footage of the living space was divided by the number of rooms to represent how spacious each room would be for a given house. \n",
    "<img src='img/living_space.png'>\n",
    "We observed a positive associated relationship between them.\n",
    "> living square footage / bedrooms was added as a continuous predictor in our model."
   ]
  },
  {
   "cell_type": "markdown",
   "metadata": {},
   "source": [
    "### Quality Bathrooms Factor\n",
    "Lastly, we have noticed that `bathroom` numbers had a strong positive relationship with the price as well as `grade`. So these two quantities were multiplied to provide\n",
    "        <br>1) amplified benefits for bathrooms with good qualities and\n",
    "        <br>2) some penalties with bathrooms with poor qualities.\n",
    "The following regplot was generated using seaborn:\n",
    "<img src='img/bathrooms.png'>\n",
    "The graph showed a strong positive association.\n",
    "> Bathrooms x grades was added as a continuous predictor in our model."
   ]
  },
  {
   "cell_type": "markdown",
   "metadata": {},
   "source": [
    "# The Dataset\n",
    "The following data sets were used.\n",
    "1. Given King's County house sale data\n",
    "    - We were given with King's County house sale data between 2014-2015. \n",
    "    - This data will be used as our main data\n",
    "    \n",
    "2. Past mortgage rates by month\n",
    "    - Source: http://www.freddiemac.com/pmms/pmms30.html\n",
    "\n",
    "3. Top attractions near Seattle\n",
    "    - Source: https://www.timeout.com/seattle/\n",
    "---\n",
    "The following API was used to obtain additional data:\n",
    "1. Google Geocode API\n",
    "    - This API was used to obtain latitude and longitude data of various locations\n",
    "   "
   ]
  },
  {
   "cell_type": "markdown",
   "metadata": {
    "ExecuteTime": {
     "end_time": "2020-09-21T18:03:52.099854Z",
     "start_time": "2020-09-21T18:03:52.097530Z"
    }
   },
   "source": [
    "# Method"
   ]
  },
  {
   "cell_type": "markdown",
   "metadata": {},
   "source": [
    "\"MakeModel\" class was made to process and make models in repeatable ways. The following are major methods in the \"MakeModel\" class that was used to produce multiple models:\n",
    "<hr>"
   ]
  },
  {
   "cell_type": "markdown",
   "metadata": {},
   "source": [
    "1. <code>MakeModel.col_classifier()</code> - allows the user to classify each column in the dataframe either (1) continous, (2) categrorical or (3) drop the column.\n",
    "<br>\n",
    "2. `MakeModel.outliers()` - allows the user to filter out outliers if any using either (1) z-score method or (2) IQR method.\n",
    "<br>\n",
    "3. `MakeModel.scaler()` - allows the user to scale data using (1) standardscale, (2) min-max scale, or (3) logarithmic scale\n",
    "<br>\n",
    "4. `MakeModel.multicoliearity()` - allows the user to drop predictors that might be multicolinear using either (1) correlation matrix or (2) variance inflaction factor (VIF).\n",
    "<br>\n",
    "5. `MakeModel.ohe()` - allows the user to do one-hot-encode categorical predictors of user's choice\n",
    "<br>\n",
    "6. `MakeModel.split()` - splits the data into train and test sets\n",
    "<br>\n",
    "7. `MakeModel.regression()` - using statsmodels library, creates a regression model.\n",
    "<br>\n",
    "8. `MakeModel.model.summary()` - prints out the summary of the model\n",
    "<br>\n",
    "9. `MakeModel.validate_model()` - prints out QQ plots, residual graphs, r2_score, and MSE of both train and test data for validation.\n",
    "<hr>"
   ]
  },
  {
   "cell_type": "markdown",
   "metadata": {
    "ExecuteTime": {
     "end_time": "2020-09-21T19:04:57.972455Z",
     "start_time": "2020-09-21T19:04:57.968452Z"
    }
   },
   "source": [
    ">The process mentioned above was repeated multiple times until the desired model was created."
   ]
  },
  {
   "cell_type": "markdown",
   "metadata": {
    "ExecuteTime": {
     "end_time": "2020-09-21T19:05:10.442766Z",
     "start_time": "2020-09-21T19:05:10.438478Z"
    }
   },
   "source": [
    "# Result (Model)"
   ]
  },
  {
   "cell_type": "markdown",
   "metadata": {},
   "source": [
    "<img src=\"img/regression.png\" width=500>"
   ]
  },
  {
   "cell_type": "markdown",
   "metadata": {},
   "source": [
    ">The $r^2$ value turned out to be 0.725 which is not an ideal value but good 'enough' for an interpretable model.\n"
   ]
  },
  {
   "cell_type": "markdown",
   "metadata": {},
   "source": [
    "<img src=\"img/finalQQ.png\">"
   ]
  },
  {
   "cell_type": "markdown",
   "metadata": {},
   "source": [
    ">Even though there are slight non-normality at either ends, the residuals seem normal.\n",
    "<hr>\n",
    "<img src=\"img/ResidGraph.png\">"
   ]
  },
  {
   "cell_type": "markdown",
   "metadata": {},
   "source": [
    ">This residual graph shows that our model is homoscedastic but biased.\n",
    "    - the model overpredicts low-priced houses\n",
    "    - the model underpredicts high-priced houses"
   ]
  },
  {
   "cell_type": "markdown",
   "metadata": {},
   "source": [
    "# Interpretation"
   ]
  },
  {
   "attachments": {},
   "cell_type": "markdown",
   "metadata": {},
   "source": [
    "According the result the following factors have been identified as positive effectors and negative effectors:\n",
    "<br>\n",
    "<hr>\n",
    "<b>Positive Effectors:</b>\n",
    "\n",
    "Major Positive Effectors:\n",
    "    1. waterfront = water scenery matters\n",
    "    2. average room space = more space is better\n",
    "    3. grade x bathroom = having great bathrooms count!\n",
    "    4. Seattle = Further you live from Seattle is better\n",
    "\n",
    "Minor Positive Effectors: \n",
    "    1. Effective age \n",
    "    2. Selling in Spring\n",
    "    3. Selling in Summer\n",
    "<hr>\n",
    "<b>Negative Effectors:</b>\n",
    "\n",
    "Major Negative Effectors:\n",
    "    1. mean distance from main attractions = further you live, the value goes down generally\n",
    "    2. distance from Microsoft HQ = further you live, the value goes down generally\n",
    "\n",
    "Minor Negative Effectors: \n",
    "    1. Mortgage rate – higher rate lowers the house value\n",
    "    2. Selling in winter\n",
    "<hr>\n"
   ]
  },
  {
   "cell_type": "markdown",
   "metadata": {},
   "source": [
    "# Conclusion"
   ]
  },
  {
   "cell_type": "markdown",
   "metadata": {},
   "source": [
    "The final model is limited in accuracy ($R^2 = 0.725$). However it can give us a good idea of what factors we can control and change to change the house price\n",
    "\n",
    "<b>Actionable changes</b>\n",
    "    - Renovate to \n",
    "        - Increase open space\n",
    "        - Waterfront presence\n",
    "        - Better quality bathrooms\n",
    "    - What NOT to do\n",
    "        - increase number of bathrooms and bedrooms in total\n",
    "        - sell in the winter season\n",
    "        - sell during high mortgage rate\n",
    "\t\n"
   ]
  },
  {
   "cell_type": "markdown",
   "metadata": {},
   "source": [
    "# Further Studies"
   ]
  },
  {
   "cell_type": "markdown",
   "metadata": {
    "ExecuteTime": {
     "end_time": "2020-09-21T19:05:10.442766Z",
     "start_time": "2020-09-21T19:05:10.438478Z"
    }
   },
   "source": [
    "The following features could be added to increase the accuracy of the model:\n",
    "    - school district for elementary, middle and high school rating\n",
    "    - average traffic time to major attractions\n",
    "    - noise level \n",
    "    - flood factors\n",
    "\n"
   ]
  }
 ],
 "metadata": {
  "kernelspec": {
   "display_name": "Python [conda env:learn-env] *",
   "language": "python",
   "name": "conda-env-learn-env-py"
  },
  "language_info": {
   "codemirror_mode": {
    "name": "ipython",
    "version": 3
   },
   "file_extension": ".py",
   "mimetype": "text/x-python",
   "name": "python",
   "nbconvert_exporter": "python",
   "pygments_lexer": "ipython3",
   "version": "3.6.9"
  },
  "toc": {
   "base_numbering": 1,
   "nav_menu": {},
   "number_sections": true,
   "sideBar": true,
   "skip_h1_title": false,
   "title_cell": "Table of Contents",
   "title_sidebar": "Contents",
   "toc_cell": false,
   "toc_position": {},
   "toc_section_display": true,
   "toc_window_display": false
  }
 },
 "nbformat": 4,
 "nbformat_minor": 2
}
